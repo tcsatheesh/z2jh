{
 "cells": [
  {
   "cell_type": "code",
   "execution_count": null,
   "metadata": {},
   "outputs": [],
   "source": [
    "! env | grep PYTHONPATH"
   ]
  },
  {
   "cell_type": "code",
   "execution_count": null,
   "metadata": {},
   "outputs": [],
   "source": [
    "import os\n",
    "import sys\n",
    "from subprocess import PIPE, Popen\n",
    "lmod_path = os.environ[\"LMOD_PKG\"] + \"/libexec/lmod\"\n",
    "def module(command, *args):\n",
    "      proc = Popen([lmod_path, 'python', command] + list(args), stdout=PIPE, stderr=PIPE)\n",
    "      stdout, stderr = proc.communicate()\n",
    "      print(stderr.decode())\n",
    "      exec(stdout.decode())\n",
    "def add_new_pythonpath():\n",
    "    for p in os.environ[\"PYTHONPATH\"].split(\":\"):\n",
    "        sys.path.append(p)\n",
    "module(\"use\", \"/jupyter/modules\")\n",
    "module(\"load\", \"v1\")\n",
    "add_new_pythonpath()"
   ]
  },
  {
   "cell_type": "code",
   "execution_count": null,
   "metadata": {},
   "outputs": [],
   "source": [
    "! env | grep PYTHONPATH"
   ]
  }
 ],
 "metadata": {
  "language_info": {
   "codemirror_mode": {
    "name": "ipython",
    "version": 3
   },
   "file_extension": ".py",
   "mimetype": "text/x-python",
   "name": "python",
   "nbconvert_exporter": "python",
   "pygments_lexer": "ipython3",
   "version": 3
  },
  "orig_nbformat": 2
 },
 "nbformat": 4,
 "nbformat_minor": 2
}